{
 "cells": [
  {
   "cell_type": "code",
   "execution_count": 13,
   "metadata": {},
   "outputs": [
    {
     "data": {
      "text/plain": [
       "24"
      ]
     },
     "execution_count": 13,
     "metadata": {},
     "output_type": "execute_result"
    }
   ],
   "source": [
    "def product(N):\n",
    "    mul=1\n",
    "    for x in range(1,N+1):\n",
    "        mul=mul*x\n",
    "    return mul\n",
    "product(4)\n",
    "\n",
    "\n",
    "\n",
    "\n",
    "        "
   ]
  },
  {
   "cell_type": "code",
   "execution_count": 14,
   "metadata": {},
   "outputs": [
    {
     "data": {
      "text/plain": [
       "10"
      ]
     },
     "execution_count": 14,
     "metadata": {},
     "output_type": "execute_result"
    }
   ],
   "source": [
    "def Addition(N):\n",
    "    total=0\n",
    "    for x in range(1,N+1):\n",
    "        total=total+x\n",
    "    return total\n",
    "Addition(4)\n"
   ]
  },
  {
   "cell_type": "code",
   "execution_count": 37,
   "metadata": {},
   "outputs": [
    {
     "name": "stdout",
     "output_type": "stream",
     "text": [
      "[[1 0 0 0 0]\n",
      " [0 1 0 0 0]\n",
      " [0 0 1 0 0]\n",
      " [0 0 0 1 0]\n",
      " [0 0 0 0 1]]\n"
     ]
    }
   ],
   "source": [
    "import numpy as np\n",
    "mat =np.array( [[1 for x in range(5)] for y in range(5)] )\n",
    "\n",
    "for x in range(5):\n",
    "    for y in range(5):\n",
    "        if x!=y:\n",
    "            mat[x][y]=0\n",
    "print (np.matrix(mat))\n"
   ]
  },
  {
   "cell_type": "code",
   "execution_count": 4,
   "metadata": {},
   "outputs": [
    {
     "name": "stdout",
     "output_type": "stream",
     "text": [
      "manogna\n"
     ]
    }
   ],
   "source": [
    "class Person_Details:\n",
    "    def __init__(self):\n",
    "        self.firstname=\"manogna\"\n",
    "        self.lastname=\"nallamothu\"\n",
    "        self.age=25\n",
    "\n",
    "\n",
    "myperson=Person_Details()\n",
    "\n",
    "\n",
    "print(myperson.firstname)"
   ]
  },
  {
   "cell_type": "code",
   "execution_count": 5,
   "metadata": {},
   "outputs": [
    {
     "name": "stdout",
     "output_type": "stream",
     "text": [
      "Teju\n"
     ]
    }
   ],
   "source": [
    "class Person_Details:\n",
    "    def __init__(self,firstname,lastname):\n",
    "        self.firstname=firstname\n",
    "        self.lastname=lastname\n",
    "        self.age=25\n",
    "\n",
    "\n",
    "myperson=Person_Details(\"Teju\",\"Yerroju\")\n",
    "\n",
    "\n",
    "print(myperson.firstname)"
   ]
  },
  {
   "cell_type": "code",
   "execution_count": 6,
   "metadata": {},
   "outputs": [
    {
     "name": "stdout",
     "output_type": "stream",
     "text": [
      "Teju\n",
      "[no firstname]\n"
     ]
    }
   ],
   "source": [
    "class Person_Details:\n",
    "    def __init__(self,firstname=\"[no firstname]\",lastname=\"[no lastname]\"):\n",
    "        self.firstname=firstname\n",
    "        self.lastname=lastname\n",
    "        self.age=25\n",
    "\n",
    "\n",
    "myperson=Person_Details(\"Teju\",\"Yerroju\")\n",
    "\n",
    "myperson1=Person_Details()\n",
    "\n",
    "\n",
    "print(myperson.firstname)\n",
    "\n",
    "print(myperson1.firstname)"
   ]
  },
  {
   "cell_type": "code",
   "execution_count": 28,
   "metadata": {},
   "outputs": [
    {
     "data": {
      "text/plain": [
       "0.0"
      ]
     },
     "execution_count": 28,
     "metadata": {},
     "output_type": "execute_result"
    }
   ],
   "source": [
    "class circle:\n",
    "    def __init__(self,radius):\n",
    "        self.radius=radius\n",
    "        \n",
    "    def decrease(self):\n",
    "        self.radius=self.radius-1\n",
    "        return self.radius\n",
    "    \n",
    "    def perimeter(self):\n",
    "        return (2*3.14*(self.radius))\n",
    "    \n",
    "\n",
    "circle1=circle(radius=1)\n",
    "\n",
    "circle1.decrease()\n",
    "\n",
    "circle1.perimeter()\n",
    "\n",
    "#print (circle1.radius)\n",
    "\n",
    "#print (circle1.area())\n",
    "\n",
    "#print (circle1.permiter())"
   ]
  },
  {
   "cell_type": "code",
   "execution_count": null,
   "metadata": {},
   "outputs": [],
   "source": []
  },
  {
   "cell_type": "code",
   "execution_count": null,
   "metadata": {},
   "outputs": [],
   "source": []
  }
 ],
 "metadata": {
  "kernelspec": {
   "display_name": "Python 3",
   "language": "python",
   "name": "python3"
  },
  "language_info": {
   "codemirror_mode": {
    "name": "ipython",
    "version": 3
   },
   "file_extension": ".py",
   "mimetype": "text/x-python",
   "name": "python",
   "nbconvert_exporter": "python",
   "pygments_lexer": "ipython3",
   "version": "3.7.3"
  }
 },
 "nbformat": 4,
 "nbformat_minor": 2
}
